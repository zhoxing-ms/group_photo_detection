{
 "cells": [
  {
   "cell_type": "code",
   "execution_count": 3,
   "id": "62c43ef0",
   "metadata": {},
   "outputs": [],
   "source": [
    "import shutil\n",
    "import glob\n",
    "import os\n",
    "from PIL import Image\n",
    "import numpy as np\n",
    "def get_box(line, w, h):\n",
    "    strs = line.strip().split()\n",
    "    center_x = int(float(strs[1]) * w)\n",
    "    center_y = int(float(strs[2]) * h)\n",
    "    w = int(float(strs[3]) * w)\n",
    "    h = int(float(strs[4]) * h)\n",
    "        \n",
    "    x0 = center_x - w//2\n",
    "    y0 = center_y - h//2\n",
    "    x1 = center_x + w//2\n",
    "    y1 = center_y + h//2\n",
    "    return x0, y0, x1, y1\n",
    "\n",
    "def read_boxes(lb_path, w, h):\n",
    "    boxes = []\n",
    "    with open(lb_path, 'r') as f:\n",
    "        lines = f.readlines()\n",
    "        for line in lines:\n",
    "            box = get_box(line, w, h)\n",
    "            boxes.append(box)\n",
    "    return boxes\n",
    "\n",
    "def save_lines(lines):\n",
    "    labels_path = os.path.join(wider_dir, 'labelv2.txt')\n",
    "    with open(labels_path, 'w') as f:\n",
    "        for line in lines:\n",
    "            f.write(line+'\\n')\n",
    "wider_dir = './wider_val'\n",
    "img_dir = os.path.join(wider_dir, 'images')\n",
    "lb_dir = os.path.join(wider_dir, 'labels')\n",
    "lb_paths = glob.glob(os.path.join(lb_dir, '**.txt'))\n",
    "lines = []\n",
    "for lb_path in lb_paths:\n",
    "    lb_name = os.path.basename(lb_path).split('.')[0]\n",
    "    img_name = lb_name+'.jpg'\n",
    "    img_path = os.path.join(img_dir, img_name)\n",
    "    if not os.path.exists(img_path):\n",
    "        continue\n",
    "    img = Image.open(img_path)\n",
    "    width, height = img.size\n",
    "    boxes = read_boxes(lb_path, width, height)\n",
    "    lines.append(f'# {img_name} {width} {height}')\n",
    "    \n",
    "    for box in boxes:\n",
    "        lines.append(f'{box[0]} {box[1]} {box[2]} {box[3]} -1 -1 -1 -1 -1 -1 -1 -1 -1 -1 -1 -1 -1 -1 -1')\n",
    "\n",
    "save_lines(lines)"
   ]
  },
  {
   "cell_type": "code",
   "execution_count": null,
   "id": "a26f9b05-2b61-4448-98dc-06f757d4ef85",
   "metadata": {},
   "outputs": [],
   "source": []
  }
 ],
 "metadata": {
  "kernelspec": {
   "display_name": "Python 3 (ipykernel)",
   "language": "python",
   "name": "python3"
  },
  "language_info": {
   "codemirror_mode": {
    "name": "ipython",
    "version": 3
   },
   "file_extension": ".py",
   "mimetype": "text/x-python",
   "name": "python",
   "nbconvert_exporter": "python",
   "pygments_lexer": "ipython3",
   "version": "3.10.14"
  }
 },
 "nbformat": 4,
 "nbformat_minor": 5
}
